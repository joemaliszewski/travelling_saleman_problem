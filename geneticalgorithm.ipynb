{
 "cells": [
  {
   "cell_type": "markdown",
   "metadata": {},
   "source": [
    "# Genetic Algorithm TSP "
   ]
  },
  {
   "cell_type": "markdown",
   "metadata": {},
   "source": [
    "## Imports and Utilities"
   ]
  },
  {
   "cell_type": "code",
   "execution_count": 1,
   "metadata": {},
   "outputs": [],
   "source": [
    "import time\n",
    "import random\n",
    "import math\n",
    "import numpy as np\n",
    "import matplotlib.pyplot as plt\n",
    "from scipy import spatial\n",
    "import copy\n",
    "import operator\n",
    "import pandas as pd\n",
    "import numpy as np\n",
    "\n",
    "def att48_to_nx3_list(filename):\n",
    "\n",
    "    with open(filename) as f:\n",
    "        att48 = f.readlines()\n",
    "\n",
    "    #Rejects document text \n",
    "    pre_size = len(att48)\n",
    "    att48 =att48[6:pre_size-1] \n",
    "    post_size = len(att48)\n",
    "    \n",
    "    #separates and splits numbers into list array[cityNUM, xcoord, ycoord]\n",
    "    #split each line into 3 colums cityID, x_coord, y_coord\n",
    "    for i in range (post_size):\n",
    "        att48[i] = att48[i].split()\n",
    "    \n",
    "    #Convert all strings in array to ints \n",
    "    for i in range (post_size):\n",
    "        att48[i][0] = int(att48[i][0])\n",
    "        att48[i][1] = int(att48[i][1])\n",
    "        att48[i][2] = int(att48[i][2])\n",
    "         \n",
    "    return att48\n",
    "\n",
    "def plot_cities(cities_list):\n",
    "    \n",
    "    cityIDs = []\n",
    "    x = []\n",
    "    y = []\n",
    "        \n",
    "    for i in range (len(cities_list)):\n",
    "        cityIDs.append(cities_list[i][0])\n",
    "        x.append(cities_list[i][1])\n",
    "        y.append(cities_list[i][2])\n",
    "    \n",
    "    plt.plot(x, y, 'k-')\n",
    "    plt.show()\n",
    "\n",
    "\n",
    "def read_optimum_tour_index(opt_file):\n",
    "    \n",
    "    with open(opt_file) as f:\n",
    "        att48 = f.readlines()\n",
    "        \n",
    "    #Rejects document text \n",
    "    pre_size = len(att48)\n",
    "    att48 =att48[5:pre_size-2] \n",
    "    post_size = len(att48)\n",
    "    \n",
    "    #separates and splits numbers into list array[cityNUM, xcoord, ycoord]\n",
    "    \n",
    "    #split each line into 3 colums cityID, x_coord, y_coord\n",
    "    for i in range (post_size):\n",
    "        att48[i] = att48[i].split()\n",
    "    \n",
    "    #Convert all strings in array to ints \n",
    "    for i in range (post_size):\n",
    "        att48[i][0]= int(att48[i][0])\n",
    "           \n",
    "    return att48\n",
    "\n",
    "def sort_to_index(cities, index):\n",
    "    #intilize list\n",
    "    sorted_cities = []\n",
    "    \n",
    "    #initilze list size\n",
    "    for i in range (len(index)):\n",
    "        sorted_cities.append([0,0,0])\n",
    "        \n",
    "    #rearrange city index to optimum solution\n",
    "    for i in range (len(index)):\n",
    "        sorted_cities[i][0] = cities[index[i][0]-1][0]\n",
    "        sorted_cities[i][1] = cities[index[i][0]-1][1]\n",
    "        sorted_cities[i][2] = cities[index[i][0]-1][2]\n",
    "    return sorted_cities\n",
    "\n",
    "def pseudo_euclidean_distance(point_1, point_2):\n",
    "    \n",
    "    x1 = point_1[0]\n",
    "    y1 = point_1[1]\n",
    "    x2 = point_2[0]\n",
    "    y2 = point_2[1]\n",
    "    \n",
    "    xd = x1 - x2;\n",
    "    yd = y1 - y2;\n",
    "    rij = (((xd*xd + yd*yd)/10.0)**(1/2))\n",
    "    tij = np.rint(rij);\n",
    "    \n",
    "    if (tij<rij):\n",
    "        dij = tij + 1;\n",
    "    else:\n",
    "        dij = tij;\n",
    "    \n",
    "    return dij"
   ]
  },
  {
   "cell_type": "markdown",
   "metadata": {},
   "source": [
    "## Main Function "
   ]
  },
  {
   "cell_type": "code",
   "execution_count": 2,
   "metadata": {},
   "outputs": [],
   "source": [
    "def Genetic_Algorithm(initial_route, polulation_size, elites, mutation_rate, generations):\n",
    "    #generate out initial population of n number of individuals\n",
    "    population = generate_population(initial_route, polulation_size)\n",
    "    \n",
    "    for gen in range (generations):\n",
    "        population = create_next_generation(population, mutation_rate, elites)\n",
    "         \n",
    "    best_indv = population[0]\n",
    "        \n",
    "    return(best_indv)\n",
    "\n",
    "\n"
   ]
  },
  {
   "cell_type": "markdown",
   "metadata": {},
   "source": [
    "## Generate Population"
   ]
  },
  {
   "cell_type": "code",
   "execution_count": 3,
   "metadata": {},
   "outputs": [],
   "source": [
    "\n",
    "def generate_population(initial_route, polulation_size):\n",
    "    #create a population of specified size by generating new individuals\n",
    "    #and appending them to the population\n",
    "    \n",
    "    population = []\n",
    "        \n",
    "    for i in range(polulation_size):\n",
    "        new_individual = generation_indv(initial_route)\n",
    "        population.append(new_individual)\n",
    "        \n",
    "    return population\n",
    "\n",
    "def generation_indv(initial_route):\n",
    "\n",
    "        #number of genes in an individual (does not change)\n",
    "        total_num_genes = len(initial_route)\n",
    "        \n",
    "        #generate new individual\n",
    "        new_indivual = random.sample(initial_route,total_num_genes)\n",
    "        \n",
    "        return new_indivual\n"
   ]
  },
  {
   "cell_type": "markdown",
   "metadata": {},
   "source": [
    "## Create \"Next Generation\" Function: Core of Genetic Algorthim"
   ]
  },
  {
   "cell_type": "code",
   "execution_count": 4,
   "metadata": {},
   "outputs": [],
   "source": [
    "#Create the next generation\n",
    "\n",
    "def create_next_generation(population, mutation_rate, elites):\n",
    "    \n",
    "    fitness_ranked_index = rank_population_fitness(population)\n",
    "    selected_individuals_index = selection_process(elites,fitness_ranked_index)\n",
    "    mating_pool = create_mating_pool(population, selected_individuals_index)\n",
    "    children = breed_population(mating_pool, elites)\n",
    "    next_generation = mutate_child_population(children, mutation_rate)\n",
    "    \n",
    "    return next_generation\n",
    "\n",
    "    "
   ]
  },
  {
   "cell_type": "markdown",
   "metadata": {},
   "source": [
    "## Create \"Fitness Ranked Index\""
   ]
  },
  {
   "cell_type": "code",
   "execution_count": 5,
   "metadata": {},
   "outputs": [],
   "source": [
    "# take all the individuals in a population and rank them by fitest first \n",
    "# fitness_ranked_index = rank_population_fitness(population)\n",
    "def rank_population_fitness(population):\n",
    "    fitness_index = []\n",
    "    for i in range (len(population)):\n",
    "        indiv_fitness_value = cal_individual_fitness(population[i])\n",
    "        indv_ID = i\n",
    "        fitness_index.append([indv_ID,indiv_fitness_value, 0, 0])\n",
    "\n",
    "    #sort array fittest first of fitness ranked index (FRI)\n",
    "    FRI = sort_fitness_index(fitness_index)\n",
    "    \n",
    "    #get cumulative sum of all fitness values\n",
    "    cumulative_sum = 0\n",
    "    for i in range (len(population)):  \n",
    "        indiv_fitness_value = FRI[i][1] \n",
    "        \n",
    "        cumulative_sum = cumulative_sum + indiv_fitness_value\n",
    "        FRI[i][2] = cumulative_sum\n",
    "    \n",
    "    #cal cumulative percentage\n",
    "    for i in range (len(population)):\n",
    "        FRI[i][3] = (FRI[i][2]*100)/cumulative_sum\n",
    "                                                  \n",
    "    return FRI\n",
    "\n",
    "def cal_individual_fitness(individual):\n",
    "    route_distance = cal_route_distance(individual)\n",
    "    individual_fitness_score =  (1 / route_distance)   \n",
    "    return individual_fitness_score\n",
    " \n",
    "def sort_fitness_index(unranked_fitness_index): \n",
    "    unranked_fitness_index.sort(key=lambda x: x[1],reverse = True)    \n",
    "    return unranked_fitness_index\n",
    "                                       "
   ]
  },
  {
   "cell_type": "markdown",
   "metadata": {},
   "source": [
    " ## Selection Process  \n",
    "                                                    "
   ]
  },
  {
   "cell_type": "code",
   "execution_count": 6,
   "metadata": {},
   "outputs": [],
   "source": [
    "def selection_process(elites_size,fitness_ranked_index):\n",
    "    \n",
    "    # Select Fittest individuals\n",
    "    \n",
    "    FRI = fitness_ranked_index\n",
    "    selection_index = []\n",
    "    \n",
    "    #select the elites- append fittest idvs\n",
    "    for i in range(elites_size):\n",
    "        ID = FRI[i][0]\n",
    "        selection_index.append(ID)\n",
    "        \n",
    "            \n",
    "    for i in range(elites_size, len(FRI)):\n",
    "        \n",
    "        rand = 100*random.random()\n",
    "    \n",
    "        for i in range(0, len(FRI)):\n",
    "            CFP = FRI[i][3]\n",
    "            \n",
    "            if CFP > rand:\n",
    "                \n",
    "                selection_index.append(FRI[i][0])\n",
    "                break\n",
    "        \n",
    "    return selection_index\n",
    "        "
   ]
  },
  {
   "cell_type": "markdown",
   "metadata": {},
   "source": [
    "## Create the mating pool"
   ]
  },
  {
   "cell_type": "code",
   "execution_count": 7,
   "metadata": {},
   "outputs": [],
   "source": [
    "def create_mating_pool(population, selected_individuals_index): \n",
    "                                                     \n",
    "    # Extract the actual individuals from the population using the selected_individuals_index\n",
    "    # and add them to the mating pool.\n",
    "\n",
    "    mating_pool= []\n",
    "    for i in range (len(selected_individuals_index)):\n",
    "         \n",
    "        individual_ID = selected_individuals_index[i]\n",
    "        mating_pool.append(population[individual_ID])\n",
    "\n",
    "                                                 \n",
    "    return mating_pool\n"
   ]
  },
  {
   "cell_type": "markdown",
   "metadata": {},
   "source": [
    "## Breed the population"
   ]
  },
  {
   "cell_type": "code",
   "execution_count": 8,
   "metadata": {},
   "outputs": [],
   "source": [
    "def breed_population(mating_pool, elite_size):\n",
    "\n",
    "    mating_pool_size = len(mating_pool) - elite_size\n",
    "    all_children = []\n",
    "    \n",
    "    #the elites go forwards get a pass into new generation\n",
    "    for i in range(0,elite_size):\n",
    "        all_children.append(mating_pool[i]) \n",
    "    \n",
    "    #breed the others\n",
    "    for i in range(0, mating_pool_size):\n",
    "        decrement = mating_pool_size-i-1\n",
    "        child = breed(mating_pool[i], mating_pool[decrement])\n",
    "        all_children.append(child)\n",
    "    \n",
    "    return all_children\n",
    "        \n",
    "\n",
    "\n",
    "def breed(parent_1, parent_2):\n",
    "    \n",
    "    #randomly find two genes \n",
    "    gene_A = int(random.random()*len(parent_1))\n",
    "    gene_B = int(random.random()*len(parent_1))\n",
    "    \n",
    "    #find the begining and the end of the snipped section\n",
    "    begin_gene = min(gene_A, gene_B)\n",
    "    end_gene = max(gene_A, gene_B)\n",
    "    \n",
    "    spliced_section = []\n",
    "    for i in range (begin_gene, end_gene):\n",
    "        spliced_section.append(parent_1[i])\n",
    "    \n",
    "    \n",
    "    remaining_genes = []\n",
    "    for i in range (len(parent_2)):\n",
    "        \n",
    "        if (parent_2[i] not in spliced_section):\n",
    "            \n",
    "            remaining_genes.append(parent_2[i])\n",
    "            \n",
    "    child = spliced_section + remaining_genes\n",
    "    return child\n",
    "    "
   ]
  },
  {
   "cell_type": "markdown",
   "metadata": {},
   "source": [
    "## Mutate Population"
   ]
  },
  {
   "cell_type": "code",
   "execution_count": 9,
   "metadata": {},
   "outputs": [],
   "source": [
    "def mutate_child_population(population, mutation_rate):\n",
    "    #For each individual in the population there is a chance of mutation\n",
    "    mutant_population = []\n",
    "    for indv in range (len(population)):\n",
    "        mutant = mutate_individual(population[indv], mutation_rate)\n",
    "        mutant_population.append(mutant)\n",
    "        \n",
    "    return mutant_population\n",
    "\n",
    "def mutate_individual(individual, mutation_rate):  \n",
    "    #A mutation in this case is where two genes in that individual will swap.\n",
    "    mution_chance = random.random()\n",
    "\n",
    "    if (mution_chance <= mutation_rate):\n",
    "        # if mutation, first find  random city to swap with.\n",
    "        random_gene_1 = random.sample(range(0, len(individual)), 1)\n",
    "        random_gene_2 = random.sample(range(0, len(individual)), 1)\n",
    "        mutant_individual = swap_genes(individual, random_gene_1, random_gene_2)\n",
    "        \n",
    "    else:\n",
    "        mutant_individual = individual\n",
    "   \n",
    "    return mutant_individual\n",
    "\n",
    "def swap_genes(individual, random_gene_1, random_gene_2):\n",
    "        individual_copy = copy.copy(individual)\n",
    "    \n",
    "        gene_1 = individual_copy[random_gene_1[0]]\n",
    "        gene_2 = individual_copy[random_gene_2[0]]\n",
    "        #swap over (muation event)\n",
    "        individual_copy[random_gene_1[0]] = gene_2\n",
    "        individual_copy[random_gene_2[0]] = gene_1\n",
    "               \n",
    "        mutant = individual_copy\n",
    "        return mutant\n",
    "        \n"
   ]
  },
  {
   "cell_type": "markdown",
   "metadata": {},
   "source": [
    "## Run Algorithm "
   ]
  },
  {
   "cell_type": "code",
   "execution_count": 10,
   "metadata": {},
   "outputs": [],
   "source": [
    "def cal_route_distance(route_solution): \n",
    "        \n",
    "    Total_distance = 0\n",
    "    \n",
    "    new_route_sol = route_solution\n",
    "\n",
    "    for i in range (len(new_route_sol)-1):\n",
    "        \n",
    "        x1 = new_route_sol[i][1]\n",
    "        y1 = new_route_sol[i][2]\n",
    "        x2 = new_route_sol[i+1][1]\n",
    "        y2 = new_route_sol[i+1][2]\n",
    "        \n",
    "        point_1 = [x1, y1]\n",
    "        point_2 = [x2, y2]\n",
    "        \n",
    "        Total_distance = Total_distance + pseudo_euclidean_distance(point_1, point_2)\n",
    "        \n",
    "    return Total_distance"
   ]
  },
  {
   "cell_type": "markdown",
   "metadata": {},
   "source": [
    "#  Run"
   ]
  },
  {
   "cell_type": "code",
   "execution_count": 12,
   "metadata": {},
   "outputs": [
    {
     "name": "stdout",
     "output_type": "stream",
     "text": [
      "best route dist  12325.0\n"
     ]
    }
   ],
   "source": [
    "\n",
    "filename = \"att48.tsp\" \n",
    "initial_route = att48_to_nx3_list(filename) \n",
    "polulation_size = 100\n",
    "elites = 20\n",
    "mutation_rate = 0.01\n",
    "generations = 300\n",
    "\n",
    "best_route = Genetic_Algorithm(initial_route, polulation_size, elites, mutation_rate, generations)\n",
    "\n",
    "print(\"best route dist \", cal_route_distance(best_route))\n"
   ]
  }
 ],
 "metadata": {
  "kernelspec": {
   "display_name": "Python 3",
   "language": "python",
   "name": "python3"
  },
  "language_info": {
   "codemirror_mode": {
    "name": "ipython",
    "version": 3
   },
   "file_extension": ".py",
   "mimetype": "text/x-python",
   "name": "python",
   "nbconvert_exporter": "python",
   "pygments_lexer": "ipython3",
   "version": "3.6.8"
  }
 },
 "nbformat": 4,
 "nbformat_minor": 2
}
